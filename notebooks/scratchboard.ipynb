{
 "cells": [
  {
   "cell_type": "code",
   "execution_count": 1,
   "id": "0d4c7bdb",
   "metadata": {
    "code_folding": [
     0
    ]
   },
   "outputs": [
    {
     "name": "stderr",
     "output_type": "stream",
     "text": [
      "/var/folders/y4/vrx7plks4j73fmjfmdz2gsk00000gn/T/ipykernel_37895/1677521232.py:20: DeprecationWarning: Importing display from IPython.core.display is deprecated since IPython 7.14, please import from IPython display\n",
      "  from IPython.core.display import display, HTML\n"
     ]
    },
    {
     "data": {
      "text/html": [
       "<style>.container { width:100% !important; }</style>"
      ],
      "text/plain": [
       "<IPython.core.display.HTML object>"
      ]
     },
     "metadata": {},
     "output_type": "display_data"
    }
   ],
   "source": [
    "# Imports / Configs / Global vars\n",
    "\n",
    "# Import of native python tools\n",
    "import os\n",
    "import json\n",
    "from functools import reduce\n",
    "\n",
    "# Import of base ML stack libs\n",
    "import numpy as np\n",
    "import sklearn as sc\n",
    "\n",
    "# Logging configuraiton\n",
    "import logging\n",
    "logging.basicConfig(format='[ %(asctime)s ][ %(levelname)s ]: %(message)s', datefmt='%m/%d/%Y %I:%M:%S %p')\n",
    "logger = logging.getLogger()\n",
    "logger.setLevel(logging.INFO)\n",
    "\n",
    "\n",
    "# Ipython configs\n",
    "from IPython.core.display import display, HTML\n",
    "from IPython.core.interactiveshell import InteractiveShell\n",
    "display(HTML(\"<style>.container { width:100% !important; }</style>\"))\n",
    "InteractiveShell.ast_node_interactivity = 'all'\n",
    "\n",
    "# Pandas configs\n",
    "import pandas as pd\n",
    "pd.options.display.max_rows = 350\n",
    "pd.options.display.max_columns = 250\n",
    "\n",
    "# Jupyter configs\n",
    "%load_ext autoreload\n",
    "%autoreload 2\n",
    "%config Completer.use_jedi = False\n",
    "\n",
    "# GLOBAL VARS\n",
    "from pathlib import Path\n",
    "import sys\n",
    "PROJECT_DIR = os.getcwd().rsplit('/', 1)[0]\n",
    "\n",
    "if PROJECT_DIR not in sys.path:\n",
    "    sys.path.append(PROJECT_DIR)"
   ]
  },
  {
   "cell_type": "markdown",
   "id": "1fef11bd",
   "metadata": {},
   "source": [
    "# Main\n"
   ]
  },
  {
   "cell_type": "code",
   "execution_count": 6,
   "id": "ea9aebe9",
   "metadata": {},
   "outputs": [],
   "source": [
    "from kedro.framework.startup import bootstrap_project\n",
    "from kedro.framework.session import KedroSession\n",
    "\n",
    "\n",
    "_ = bootstrap_project(PROJECT_DIR)  # NOTE: startup execution\n",
    "kedro_session = KedroSession.create(\n",
    "    package_name=\"pipelines\",\n",
    "    project_path=PROJECT_DIR,\n",
    "    extra_params={\"foo\": \"bar\"},  # NOTE: <- this parameters is critical to override arguments\n",
    ")\n",
    "kedro_session.run(\n",
    "    pipeline_name=\"iris\",\n",
    ")"
   ]
  },
  {
   "cell_type": "code",
   "execution_count": null,
   "id": "5145f389",
   "metadata": {},
   "outputs": [],
   "source": []
  }
 ],
 "metadata": {
  "kernelspec": {
   "display_name": "Python 3 (ipykernel)",
   "language": "python",
   "name": "python3"
  },
  "language_info": {
   "codemirror_mode": {
    "name": "ipython",
    "version": 3
   },
   "file_extension": ".py",
   "mimetype": "text/x-python",
   "name": "python",
   "nbconvert_exporter": "python",
   "pygments_lexer": "ipython3",
   "version": "3.10.9"
  },
  "varInspector": {
   "cols": {
    "lenName": 16,
    "lenType": 16,
    "lenVar": 40
   },
   "kernels_config": {
    "python": {
     "delete_cmd_postfix": "",
     "delete_cmd_prefix": "del ",
     "library": "var_list.py",
     "varRefreshCmd": "print(var_dic_list())"
    },
    "r": {
     "delete_cmd_postfix": ") ",
     "delete_cmd_prefix": "rm(",
     "library": "var_list.r",
     "varRefreshCmd": "cat(var_dic_list()) "
    }
   },
   "types_to_exclude": [
    "module",
    "function",
    "builtin_function_or_method",
    "instance",
    "_Feature"
   ],
   "window_display": false
  }
 },
 "nbformat": 4,
 "nbformat_minor": 5
}
